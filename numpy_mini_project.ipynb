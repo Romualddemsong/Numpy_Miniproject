{
  "nbformat": 4,
  "nbformat_minor": 0,
  "metadata": {
    "colab": {
      "name": "numpy mini project.ipynb",
      "provenance": []
    },
    "kernelspec": {
      "name": "python3",
      "display_name": "Python 3"
    },
    "language_info": {
      "name": "python"
    }
  },
  "cells": [
    {
      "cell_type": "code",
      "execution_count": 82,
      "metadata": {
        "colab": {
          "base_uri": "https://localhost:8080/"
        },
        "id": "dB-rbJQK_s-k",
        "outputId": "5ba22d68-7722-4652-f32c-4eb869a31b15"
      },
      "outputs": [
        {
          "output_type": "stream",
          "name": "stdout",
          "text": [
            "data:\n",
            " [[39 13  4 ...  0 40  0]\n",
            " [50 13  4 ...  0 13  0]\n",
            " [38  9  4 ...  0 40  0]\n",
            " ...\n",
            " [48 13  4 ...  0 58  1]\n",
            " [40 10  4 ...  0 40  0]\n",
            " [39 13  4 ...  0 50  1]]\n"
          ]
        }
      ],
      "source": [
        "#we are uploading the source file into google colab to be able to access it\n",
        "data_file = 'makeSenseOfCensus.csv'\n",
        "import numpy as np\n",
        "data = np.genfromtxt(data_file, delimiter=\",\", skip_header=1,dtype=int)\n",
        "print(\"data:\\n\",data)\n",
        "\n"
      ]
    },
    {
      "cell_type": "code",
      "source": [
        "#adding a new row to the initial data using (np.concatenate())\n",
        "new_record = [[50,9,4,1,0,0,40,0]]\n",
        "np.concatenate([data,new_record])\n"
      ],
      "metadata": {
        "colab": {
          "base_uri": "https://localhost:8080/"
        },
        "id": "yEGFvZu6FMa5",
        "outputId": "c2d95b06-00dd-4ae6-9b0e-767cdf3ba44a"
      },
      "execution_count": 83,
      "outputs": [
        {
          "output_type": "execute_result",
          "data": {
            "text/plain": [
              "array([[39, 13,  4, ...,  0, 40,  0],\n",
              "       [50, 13,  4, ...,  0, 13,  0],\n",
              "       [38,  9,  4, ...,  0, 40,  0],\n",
              "       ...,\n",
              "       [40, 10,  4, ...,  0, 40,  0],\n",
              "       [39, 13,  4, ...,  0, 50,  1],\n",
              "       [50,  9,  4, ...,  0, 40,  0]])"
            ]
          },
          "metadata": {},
          "execution_count": 83
        }
      ]
    },
    {
      "cell_type": "code",
      "source": [
        "#pulling out of the data a specific column(age) with index 0\n",
        "age = np.array(data[:,0])\n",
        "print(age)\n"
      ],
      "metadata": {
        "colab": {
          "base_uri": "https://localhost:8080/"
        },
        "id": "dtaxALmdGeX7",
        "outputId": "a6ae1a41-7109-4096-fa8b-b43626616036"
      },
      "execution_count": 84,
      "outputs": [
        {
          "output_type": "stream",
          "name": "stdout",
          "text": [
            "[39 50 38 53 28 37 49 52 31 42 37 30 23 32 40 34 25 32 38 43 40 54 35 43\n",
            " 59 56 19 54 39 49 23 20 45 30 22 48 21 19 31 48 31 53 24 49 25 57 53 44\n",
            " 41 29 25 18 47 50 47 43 46 35 41 30 30 32 48 42 29 36 28 53 49 25 19 31\n",
            " 29 23 79 27 40 67 18 31 18 52 46 59 44 53 49 33 30 43 57 37 28 30 34 29\n",
            " 48 37 48 32 76 44 47 20 29 32 17 30 31 42 24 38 56 28 36 53 56 49 55 22\n",
            " 21 40 30 29 19 47 20 31 35 39 28 24 38 37 46 38 43 27 20 49 61 27 19 45\n",
            " 70 31 22 36 64 43 47 34 33 21 52 48 23 71 29 42 68 25 44 28 45 36 39 46\n",
            " 18 66 27 28 51 27 28 27 21 34 18 33 44 43 30 40 37 34 41 53 31 58 38 24\n",
            " 41 47 41 23 36 40 35 24 26 19 51 42 37 18 36 35 58 17 44 37 35 60 54 37\n",
            " 50 38 45 25 31 64 90 54 53 18 60 66 75 65 35 41 25 33 28 59 40 41 38 23\n",
            " 40 41 24 20 38 56 58 32 40 45 41 42 59 19 58 42 20 32 45 50 36 45 17 59\n",
            " 26 37 19 64 33 33 61 17 50 27 30 43 44 35 25 24 22 42 34 60 21 57 41 50\n",
            " 25 50 36 31 29 21 27 65 37 39 24 38 48 21 31 55 24 43 26 46 35 41 26 34\n",
            " 19 36 22 24 77 22 29 62 39 43 35 29 76 63 23 43 58 66 41 26 47 55 53 17\n",
            " 30 49 19 45 26 38 36 33 22 43 67 30 56 31 33 26 33 46 59 38 65 40 42 26\n",
            " 36 62 43 43 22 28 56 22 57 39 26 17 40 45 44 20 33 23 46 38 54 46 25 46\n",
            " 36 23 29 44 19 19 35 27 46 34 34 44 45 20 25 52 20 28 50 34 28 41 28 46\n",
            " 28 32 41 24 33 46 31 35 52 30 34 34 20 17 32 29 33 25 36 23 63 47 80 17\n",
            " 40 30 27 33 34 34 23 42 29 45 24 44 27 20 44 51 20 17 19 45 60 42 44 40\n",
            " 30 38 23 32 44 54 32 50 24 37 52 38 49 30 60 22 35 30 67 46 17 22 27 23\n",
            " 33 43 28 41 52 25 63 59 45 38 40 46 35 34 33 41 20 23 26 72 23 62 52 58\n",
            " 25 24 19 43 47 39 49 53 32 34 28 57 25 20 21 34 38 50 24 37 44 28 42 74\n",
            " 38 44 44 26 36 41 67 39 57 29 31 34 44 29 30 27 27 32 58 35 21 28 46 36\n",
            " 72 35 33 69 35 31 34 30 28 54 47 24 52 20 43 45 29 47 24 51 17 37 27 29\n",
            " 18 36 58 26 65 57 59 27 31 21 29 18 52 57 42 55 60 31 23 27 23 42 25 49\n",
            " 32 19 60 42 35 48 51 29 36 17 52 24 24 26 27 39 30 50 52 46 23 45 65 29\n",
            " 47 30 34 38 33 49 47 49 43 30 58 19 21 33 47 52 26 60 21 36 31 50 31 71\n",
            " 58 30 20 24 35 38 27 29 70 34 44 43 44 35 27 43 20 42 27 42 20 24 48 17\n",
            " 17 33 50 22 17 32 31 58 29 37 34 23 18 34 66 45 41 26 54 24 42 20 23 25\n",
            " 35 31 30 19 36 31 21 31 46 44 40 45 60 18 28 36 36 40 36 31 33 19 22 34\n",
            " 33 41 29 50 42 43 44 20 31 65 23 55 26 25 45 35 36 43 56 42 19 55 42 26\n",
            " 17 42 55 32 29 46 29 22 58 23 39 27 54 33 46 37 36 59 34 53 51 32 31 22\n",
            " 47 32 26 37 31 37 55 23 36 34 43 54 43 28 40 41 40 42 61 18 59 21 48 41\n",
            " 18 23 60 22 61 25 46 43 43 24 68 31 17 32 50 33 64 20 30 22 43 22 17 47\n",
            " 41 56 64 47 48 31 29 30 32 57 62 39 43 24 42 53 26 73 72 55 25 41 24 63\n",
            " 17 35 51 62 55 43 40 37 39 31 61 26 46 26 48 34 34 59 34 49 18 43 48 28\n",
            " 33 24 21 17 39 29 44 24 71 51 55 41 23 38 39 19 49 32 27 38 33 63 23 33\n",
            " 54 29 48 35 28 37 42 40 47 22 30 28 63 51 22 27 35 46 37 24 37 53 27 38\n",
            " 53 34 23 39 43 67 81 21 23 25 42 38 64 32 37 51 22 33 42 19 51 23 37 37\n",
            " 47 41 33 31 31 35 38 18 20 54 40 36 43 44 44 43 51 18 51 41 44 33 33 42\n",
            " 25 32 32 36 28 20 35 55 48 36 34 28 67 37 44 25 21 40 78 34 49 22 23 60\n",
            " 45 63 41 47 44 51 46 41 50 47 35 56 45 48 40 39]\n"
          ]
        }
      ]
    },
    {
      "cell_type": "code",
      "source": [
        "#using the max() function to find the maximum age\n",
        "max_age = age.max()\n",
        "print(max_age)"
      ],
      "metadata": {
        "colab": {
          "base_uri": "https://localhost:8080/"
        },
        "id": "eOO3uU1NIdes",
        "outputId": "f4384985-ac7e-4768-86b4-9f21045ff7a3"
      },
      "execution_count": 85,
      "outputs": [
        {
          "output_type": "stream",
          "name": "stdout",
          "text": [
            "90\n"
          ]
        }
      ]
    },
    {
      "cell_type": "code",
      "source": [
        "#using the min() function to find the minimum age\n",
        "min_age = age.min()\n",
        "print(min_age)"
      ],
      "metadata": {
        "colab": {
          "base_uri": "https://localhost:8080/"
        },
        "id": "jPk_MCocIniJ",
        "outputId": "f9c813de-9c42-403a-de01-3407504a7c99"
      },
      "execution_count": 86,
      "outputs": [
        {
          "output_type": "stream",
          "name": "stdout",
          "text": [
            "17\n"
          ]
        }
      ]
    },
    {
      "cell_type": "code",
      "source": [
        "#using the mean() function to calculate the mean value of the age column\n",
        "age_mean = age.mean()\n",
        "print(age_mean)"
      ],
      "metadata": {
        "colab": {
          "base_uri": "https://localhost:8080/"
        },
        "id": "hoBCbOHHI0Rj",
        "outputId": "cffe59d7-4d91-41c4-8933-4167089fd87d"
      },
      "execution_count": 87,
      "outputs": [
        {
          "output_type": "stream",
          "name": "stdout",
          "text": [
            "38.051\n"
          ]
        }
      ]
    },
    {
      "cell_type": "code",
      "source": [
        "#use the std() function to identify the standard deviation of the column age\n",
        "age_std  = np.std(age)\n",
        "print(age_std)"
      ],
      "metadata": {
        "colab": {
          "base_uri": "https://localhost:8080/"
        },
        "id": "XvGAml--JIZx",
        "outputId": "fb01aff4-30b0-4a8b-f247-b27e8bca4501"
      },
      "execution_count": 88,
      "outputs": [
        {
          "output_type": "stream",
          "name": "stdout",
          "text": [
            "13.342803266180612\n"
          ]
        }
      ]
    },
    {
      "cell_type": "code",
      "source": [
        "#pulling from the main data another column(race) with index of 2\n",
        "race = np.array(data[:,2])\n",
        "print(race)"
      ],
      "metadata": {
        "colab": {
          "base_uri": "https://localhost:8080/"
        },
        "id": "3z2EMMhNKOqw",
        "outputId": "4a2d85d5-0300-4a2f-dd4f-b869e9731a55"
      },
      "execution_count": 89,
      "outputs": [
        {
          "output_type": "stream",
          "name": "stdout",
          "text": [
            "[4 4 4 2 2 4 2 4 4 4 2 1 4 2 1 0 4 4 4 4 4 2 2 4 4 4 4 1 4 4 4 2 4 4 2 4 4\n",
            " 4 4 4 4 4 4 4 4 2 4 4 4 4 3 4 4 4 4 4 4 4 4 4 4 4 4 4 4 4 4 4 4 4 4 2 4 4\n",
            " 4 4 4 4 4 4 4 4 4 4 4 4 4 4 4 4 4 4 2 1 4 4 4 4 4 2 4 4 4 4 4 4 4 4 4 4 4\n",
            " 4 4 4 4 4 4 2 4 4 4 4 2 4 2 4 4 4 4 4 4 4 4 4 2 4 4 4 4 1 4 4 4 4 4 2 4 4\n",
            " 4 4 4 4 1 4 4 4 4 2 4 2 4 4 1 1 4 4 4 4 4 4 4 4 4 4 4 4 2 2 4 4 2 4 2 4 4\n",
            " 2 4 4 4 4 2 4 2 4 4 4 4 4 4 4 4 4 4 4 4 4 2 4 4 4 2 4 0 1 4 2 4 4 4 4 4 4\n",
            " 2 2 4 4 0 4 4 4 2 2 4 3 4 4 4 4 4 4 4 4 4 4 4 4 4 4 4 4 4 2 2 4 4 1 4 4 4\n",
            " 4 4 4 4 4 4 1 4 4 4 4 4 4 4 4 4 2 4 4 4 4 4 4 2 4 4 4 4 4 4 4 4 4 4 4 2 4\n",
            " 4 1 4 4 4 1 4 4 1 4 4 4 4 4 4 1 2 2 4 4 4 4 4 4 4 4 4 4 4 4 2 4 4 4 2 4 4\n",
            " 4 4 4 4 4 2 2 4 4 4 4 2 4 4 4 4 4 4 4 4 4 4 4 3 4 4 4 4 4 4 4 4 4 4 4 4 4\n",
            " 4 4 4 2 2 4 4 4 4 4 4 4 4 4 4 4 4 4 4 4 4 4 4 4 4 4 4 4 4 4 4 4 4 4 3 4 4\n",
            " 4 4 4 2 2 4 4 4 4 4 4 2 4 4 4 4 4 4 4 4 4 4 4 4 4 4 4 1 4 2 4 4 4 4 4 4 4\n",
            " 4 4 2 0 4 4 2 4 4 2 4 1 4 2 4 4 4 2 4 4 4 4 4 4 4 4 4 4 4 4 4 4 4 4 4 4 4\n",
            " 4 4 4 2 2 4 4 4 4 4 4 4 4 4 4 4 4 4 4 4 4 4 4 4 2 4 4 2 4 4 2 4 4 4 4 0 4\n",
            " 4 4 4 4 2 4 4 4 4 4 4 4 3 4 2 4 4 4 2 4 4 2 4 4 4 4 4 4 4 4 4 4 4 4 4 2 2\n",
            " 4 4 4 4 4 4 4 4 2 4 0 4 4 4 4 4 4 4 4 4 4 4 4 4 4 4 4 4 4 4 4 4 4 4 4 4 1\n",
            " 4 4 4 4 0 4 4 4 4 4 4 4 4 2 4 0 2 4 4 4 4 4 4 4 2 4 4 4 4 2 2 4 4 2 4 4 4\n",
            " 4 2 2 4 2 4 4 4 4 4 4 4 4 4 4 4 4 4 4 4 4 4 4 1 4 4 1 4 4 4 4 2 4 4 4 4 4\n",
            " 4 2 1 4 4 4 4 4 4 4 4 4 4 4 4 4 4 2 4 4 4 4 4 4 4 2 4 4 4 4 4 4 4 4 4 4 4\n",
            " 4 4 4 2 2 4 4 4 2 4 4 4 2 4 4 4 4 4 4 4 4 4 4 4 4 4 4 4 1 4 4 2 4 2 4 2 4\n",
            " 4 4 4 4 4 4 4 2 2 4 4 4 4 4 4 4 4 4 4 2 4 4 4 4 4 4 4 4 4 4 4 4 4 4 4 4 4\n",
            " 4 4 4 4 4 4 4 3 2 4 4 4 4 4 4 4 4 4 2 4 2 4 4 4 2 4 4 4 4 4 4 4 4 4 2 4 4\n",
            " 4 4 4 4 4 4 4 4 4 4 4 4 4 4 4 4 4 4 4 4 4 4 4 4 4 4 4 4 4 4 4 4 4 4 4 4 4\n",
            " 4 4 4 4 4 4 4 4 4 4 4 4 4 4 4 4 4 4 4 4 4 4 1 2 4 2 4 4 4 4 4 4 4 4 4 4 4\n",
            " 2 4 2 4 1 4 4 4 4 4 4 4 4 4 4 0 4 4 4 2 4 4 4 4 4 4 2 4 1 1 4 4 4 4 4 2 4\n",
            " 4 4 4 4 4 4 4 4 4 4 4 4 4 4 4 0 2 4 4 4 2 4 4 4 4 4 4 2 4 4 4 4 4 4 4 4 4\n",
            " 4 4 4 4 4 4 1 4 4 4 4 4 4 4 4 4 2 4 4 4 2 4 4 4 2 4 4 4 4 4 4 4 4 4 4 4 4\n",
            " 4]\n"
          ]
        }
      ]
    },
    {
      "cell_type": "code",
      "source": [
        "# breaking the race column into subsets race_0,race_1,...,race_4\n",
        "race_0=[]\n",
        "race_1=[]\n",
        "race_2=[]\n",
        "race_3=[]\n",
        "race_4=[]\n",
        "\n",
        "for i in race:\n",
        "  if i==0:\n",
        "    race_0.append(i)\n",
        "  if i==1:\n",
        "    race_1.append(i)\n",
        "  if i==2:\n",
        "    race_2.append(i)\n",
        "  if i==3:\n",
        "    race_3.append(i)\n",
        "  if i==4:\n",
        "    race_4.append(i)"
      ],
      "metadata": {
        "id": "o2QORR_3LLny"
      },
      "execution_count": 90,
      "outputs": []
    },
    {
      "cell_type": "code",
      "source": [
        "#finding the length of each each race subset above\n",
        "l=[len(race_0),len(race_1),len(race_2),len(race_3),len(race_4),]\n",
        "print(l)"
      ],
      "metadata": {
        "id": "QR9y-yyZMMCb",
        "colab": {
          "base_uri": "https://localhost:8080/"
        },
        "outputId": "910dff5e-3008-4184-ef88-91aa081d9c97"
      },
      "execution_count": 91,
      "outputs": [
        {
          "output_type": "stream",
          "name": "stdout",
          "text": [
            "[10, 27, 110, 6, 847]\n"
          ]
        }
      ]
    },
    {
      "cell_type": "code",
      "source": [
        "#identifying the race with the minimum number of citizens\n",
        "l=[len(race_0),len(race_1),len(race_2),len(race_3),len(race_4),]\n",
        "minority_race =(min(l))\n",
        "print(minority_race)"
      ],
      "metadata": {
        "colab": {
          "base_uri": "https://localhost:8080/"
        },
        "id": "eyuAZDlnWYtX",
        "outputId": "268527f1-8256-48a0-f734-636cce3d9ade"
      },
      "execution_count": 92,
      "outputs": [
        {
          "output_type": "stream",
          "name": "stdout",
          "text": [
            "6\n"
          ]
        }
      ]
    },
    {
      "cell_type": "code",
      "source": [
        "#Here we are defining senior citizen by pulling the age column and returning entries > 60years  \n",
        "senior_citizen = np.array(data[:,0])\n",
        "s_c = senior_citizen>60\n",
        "senior = data[:][s_c]\n",
        "print(senior)\n"
      ],
      "metadata": {
        "colab": {
          "base_uri": "https://localhost:8080/"
        },
        "id": "lKr2YsiLXM1t",
        "outputId": "51ecba1e-db47-409c-ff00-cdcfbff35189"
      },
      "execution_count": 93,
      "outputs": [
        {
          "output_type": "stream",
          "name": "stdout",
          "text": [
            "[[   79    10     4     1     0     0    20     0]\n",
            " [   67     6     4     1     0     0     2     0]\n",
            " [   76    14     4     1     0     0    40     1]\n",
            " [   61     9     4     1     0     0    40     0]\n",
            " [   70    10     4     1     0     0    40     0]\n",
            " [   64     7     4     1     0  2179    40     0]\n",
            " [   71    10     2     1     0  1816     2     0]\n",
            " [   68     2     4     0     0     0    20     0]\n",
            " [   66    11     4     0     0     0    20     0]\n",
            " [   64     2     4     1     0     0    40     0]\n",
            " [   90     9     2     1     0  2206    40     0]\n",
            " [   66     9     4     1  1409     0    50     0]\n",
            " [   75    11     4     0     0     0    20     0]\n",
            " [   65     9     4     0     0     0    40     0]\n",
            " [   64     9     4     1     0     0    40     1]\n",
            " [   61     9     4     1     0     0    40     1]\n",
            " [   65     9     4     1     0     0    16     0]\n",
            " [   77    10     4     1     0     0    40     0]\n",
            " [   62     9     4     0     0     0    24     0]\n",
            " [   76    14     4     1     0     0    10     0]\n",
            " [   63     9     4     1     0     0    45     0]\n",
            " [   66     9     4     1  2050     0    55     0]\n",
            " [   67     7     4     1     0     0     8     0]\n",
            " [   65     7     3     1     0     0    40     0]\n",
            " [   62    14     4     1     0     0    40     1]\n",
            " [   63     9     4     1     0     0    40     1]\n",
            " [   80     9     4     1     0     0    24     0]\n",
            " [   67    11     4     0     0     0    24     0]\n",
            " [   63     2     4     1     0     0    35     0]\n",
            " [   72     9     4     1     0     0    20     0]\n",
            " [   62     9     4     1     0     0    40     0]\n",
            " [   74    10     4     0     0     0     9     0]\n",
            " [   67    15     4     1 20051     0    48     1]\n",
            " [   72     7     4     0     0     0    40     0]\n",
            " [   69     7     4     0     0     0    40     0]\n",
            " [   65    10     4     1     0     0    30     1]\n",
            " [   65     5     2     0     0     0    24     0]\n",
            " [   71     9     4     1     0     0    15     0]\n",
            " [   70     5     4     0  1111     0    15     0]\n",
            " [   66     4     4     1     0     0     4     0]\n",
            " [   65     7     4     1  9386     0    59     1]\n",
            " [   61     9     4     1     0  2352    50     0]\n",
            " [   61     9     4     1     0     0    40     0]\n",
            " [   68     7     4     1     0     0    20     0]\n",
            " [   64    13     4     1     0     0    40     1]\n",
            " [   64     9     4     1     0     0    45     0]\n",
            " [   62     9     4     0     0     0    40     0]\n",
            " [   73     9     4     1     0     0    40     0]\n",
            " [   72     7     4     0     0     0    24     0]\n",
            " [   63     9     4     1     0     0     6     0]\n",
            " [   62    13     4     0     0     0    48     0]\n",
            " [   61    14     4     0     0     0    40     1]\n",
            " [   71    14     4     1 10605     0    40     1]\n",
            " [   63    10     4     1     0     0    15     0]\n",
            " [   63     4     4     1     0     0    55     0]\n",
            " [   67     9     1     1     0     0    40     1]\n",
            " [   81     9     4     1     0     0    30     0]\n",
            " [   64     9     4     1     0     0     5     0]\n",
            " [   67    13     4     1     0  2392    40     1]\n",
            " [   78     9     2     0  2964     0    40     0]\n",
            " [   63    11     4     0     0     0    20     0]]\n"
          ]
        }
      ]
    },
    {
      "cell_type": "code",
      "source": [
        "#pull the column working hours to find total working hours for seniors\n",
        "working_hours = np.array(senior[:,6])\n",
        "working_hours_sum = working_hours.sum()\n",
        "print(working_hours_sum)"
      ],
      "metadata": {
        "colab": {
          "base_uri": "https://localhost:8080/"
        },
        "id": "GXxlKudkb1kN",
        "outputId": "b049ee48-4654-4ef1-af6c-e3403dc1cee2"
      },
      "execution_count": 94,
      "outputs": [
        {
          "output_type": "stream",
          "name": "stdout",
          "text": [
            "1917\n"
          ]
        }
      ]
    },
    {
      "cell_type": "code",
      "source": [
        "#finding the length of senior citizen\n",
        "print(len(senior))"
      ],
      "metadata": {
        "colab": {
          "base_uri": "https://localhost:8080/"
        },
        "id": "m9Ix7m3GconQ",
        "outputId": "cf8a283a-6964-403c-f865-0a60db79211d"
      },
      "execution_count": 95,
      "outputs": [
        {
          "output_type": "stream",
          "name": "stdout",
          "text": [
            "61\n"
          ]
        }
      ]
    },
    {
      "cell_type": "code",
      "source": [
        "#find the average working hours for senior citizens\n",
        "avg_working_hours = working_hours_sum/len(senior)\n",
        "print(avg_working_hours)"
      ],
      "metadata": {
        "colab": {
          "base_uri": "https://localhost:8080/"
        },
        "id": "HoVHoxdoc0J5",
        "outputId": "cc70232d-8ba2-4eb5-8714-eea8e2c777dc"
      },
      "execution_count": 96,
      "outputs": [
        {
          "output_type": "stream",
          "name": "stdout",
          "text": [
            "31.42622950819672\n"
          ]
        }
      ]
    },
    {
      "cell_type": "markdown",
      "source": [
        "government policy is not followed\n"
      ],
      "metadata": {
        "id": "dyGq0p0RdMY3"
      }
    },
    {
      "cell_type": "code",
      "source": [
        "#from the main dataset pull column for education_number and filter it to identify highly education and lowly educated citizens \n",
        "education_num = np.array(data[:,1])\n",
        "\n",
        "high_education = education_num>10\n",
        "low_education = education_num<=10\n",
        "high= np.array(data[high_education])\n",
        "low= np.array(data[low_education])\n",
        "print (high)\n",
        "print(low)"
      ],
      "metadata": {
        "colab": {
          "base_uri": "https://localhost:8080/"
        },
        "id": "HPjfOMnedLhF",
        "outputId": "2ce8c0c6-b444-41ac-d007-106022dbe819"
      },
      "execution_count": 97,
      "outputs": [
        {
          "output_type": "stream",
          "name": "stdout",
          "text": [
            "[[39 13  4 ...  0 40  0]\n",
            " [50 13  4 ...  0 13  0]\n",
            " [28 13  2 ...  0 40  0]\n",
            " ...\n",
            " [45 14  4 ...  0 45  0]\n",
            " [48 13  4 ...  0 58  1]\n",
            " [39 13  4 ...  0 50  1]]\n",
            "[[38  9  4 ...  0 40  0]\n",
            " [53  7  2 ...  0 40  0]\n",
            " [49  5  2 ...  0 16  0]\n",
            " ...\n",
            " [35  9  4 ...  0 45  0]\n",
            " [56  9  4 ...  0 55  1]\n",
            " [40 10  4 ...  0 40  0]]\n"
          ]
        }
      ]
    },
    {
      "cell_type": "code",
      "source": [
        "#finding the average payform both highly educated and low educated citizens respectively\n",
        "avg_pay_high = high.mean()\n",
        "avg_pay_low = low.mean()\n",
        "print(avg_pay_high)\n",
        "print(avg_pay_low)"
      ],
      "metadata": {
        "colab": {
          "base_uri": "https://localhost:8080/"
        },
        "id": "FuOzTw5-e3xk",
        "outputId": "4befe144-0d6a-46c9-e080-7f4e6e4dacf2"
      },
      "execution_count": 98,
      "outputs": [
        {
          "output_type": "stream",
          "name": "stdout",
          "text": [
            "167.18119266055047\n",
            "62.53844725111441\n"
          ]
        }
      ]
    }
  ]
}